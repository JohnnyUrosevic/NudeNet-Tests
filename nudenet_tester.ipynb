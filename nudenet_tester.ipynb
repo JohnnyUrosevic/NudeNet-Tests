{
 "cells": [
  {
   "source": [
    "First install this [reddit picture scraper](https://github.com/impshum/Multithreaded-Reddit-Image-Downloader)\n"
   ],
   "cell_type": "markdown",
   "metadata": {}
  },
  {
   "cell_type": "code",
   "execution_count": 2,
   "metadata": {
    "tags": []
   },
   "outputs": [
    {
     "output_type": "stream",
     "name": "stdout",
     "text": "Defaulting to user installation because normal site-packages is not writeable\nRequirement already satisfied: requests in /usr/lib/python3.8/site-packages (from -r requirements.txt (line 1)) (2.24.0)\nRequirement already satisfied: praw in /home/goose/.local/lib/python3.8/site-packages (from -r requirements.txt (line 2)) (7.1.0)\nRequirement already satisfied: configparser in /home/goose/.local/lib/python3.8/site-packages (from -r requirements.txt (line 3)) (5.0.0)\nRequirement already satisfied: argparse in /home/goose/.local/lib/python3.8/site-packages (from -r requirements.txt (line 4)) (1.4.0)\nRequirement already satisfied: NudeNet in /home/goose/.local/lib/python3.8/site-packages (from -r requirements.txt (line 5)) (2.0.3)\nRequirement already satisfied: chardet>=3.0.2 in /usr/lib/python3.8/site-packages (from requests->-r requirements.txt (line 1)) (3.0.4)\nRequirement already satisfied: idna>=2.5 in /usr/lib/python3.8/site-packages (from requests->-r requirements.txt (line 1)) (2.10)\nRequirement already satisfied: urllib3>=1.21.1 in /usr/lib/python3.8/site-packages (from requests->-r requirements.txt (line 1)) (1.25.10)\nRequirement already satisfied: websocket-client>=0.54.0 in /home/goose/.local/lib/python3.8/site-packages (from praw->-r requirements.txt (line 2)) (0.57.0)\nRequirement already satisfied: update-checker>=0.17 in /home/goose/.local/lib/python3.8/site-packages (from praw->-r requirements.txt (line 2)) (0.18.0)\nRequirement already satisfied: prawcore<2.0,>=1.3.0 in /home/goose/.local/lib/python3.8/site-packages (from praw->-r requirements.txt (line 2)) (1.5.0)\nRequirement already satisfied: pydload in /home/goose/.local/lib/python3.8/site-packages (from NudeNet->-r requirements.txt (line 5)) (1.0.8)\nRequirement already satisfied: scikit-image in /home/goose/.local/lib/python3.8/site-packages (from NudeNet->-r requirements.txt (line 5)) (0.17.2)\nRequirement already satisfied: keras-retinanet==0.5.1 in /home/goose/.local/lib/python3.8/site-packages (from NudeNet->-r requirements.txt (line 5)) (0.5.1)\nRequirement already satisfied: keras==2.2.4 in /home/goose/.local/lib/python3.8/site-packages (from NudeNet->-r requirements.txt (line 5)) (2.2.4)\nRequirement already satisfied: opencv-python in /home/goose/.local/lib/python3.8/site-packages (from NudeNet->-r requirements.txt (line 5)) (4.4.0.42)\nRequirement already satisfied: six in /usr/lib/python3.8/site-packages (from websocket-client>=0.54.0->praw->-r requirements.txt (line 2)) (1.15.0)\nRequirement already satisfied: progressbar2 in /home/goose/.local/lib/python3.8/site-packages (from pydload->NudeNet->-r requirements.txt (line 5)) (3.52.1)\nRequirement already satisfied: matplotlib!=3.0.0,>=2.0.0 in /home/goose/.local/lib/python3.8/site-packages (from scikit-image->NudeNet->-r requirements.txt (line 5)) (3.3.1)\nRequirement already satisfied: pillow!=7.1.0,!=7.1.1,>=4.3.0 in /usr/lib/python3.8/site-packages (from scikit-image->NudeNet->-r requirements.txt (line 5)) (7.2.0)\nRequirement already satisfied: networkx>=2.0 in /home/goose/.local/lib/python3.8/site-packages (from scikit-image->NudeNet->-r requirements.txt (line 5)) (2.5)\nRequirement already satisfied: imageio>=2.3.0 in /home/goose/.local/lib/python3.8/site-packages (from scikit-image->NudeNet->-r requirements.txt (line 5)) (2.9.0)\nRequirement already satisfied: tifffile>=2019.7.26 in /home/goose/.local/lib/python3.8/site-packages (from scikit-image->NudeNet->-r requirements.txt (line 5)) (2020.9.3)\nRequirement already satisfied: PyWavelets>=1.1.1 in /home/goose/.local/lib/python3.8/site-packages (from scikit-image->NudeNet->-r requirements.txt (line 5)) (1.1.1)\nRequirement already satisfied: scipy>=1.0.1 in /home/goose/.local/lib/python3.8/site-packages (from scikit-image->NudeNet->-r requirements.txt (line 5)) (1.4.1)\nRequirement already satisfied: numpy>=1.15.1 in /home/goose/.local/lib/python3.8/site-packages (from scikit-image->NudeNet->-r requirements.txt (line 5)) (1.18.5)\nRequirement already satisfied: cython in /home/goose/.local/lib/python3.8/site-packages (from keras-retinanet==0.5.1->NudeNet->-r requirements.txt (line 5)) (0.29.21)\nRequirement already satisfied: keras-resnet in /home/goose/.local/lib/python3.8/site-packages (from keras-retinanet==0.5.1->NudeNet->-r requirements.txt (line 5)) (0.2.0)\nRequirement already satisfied: keras-preprocessing>=1.0.5 in /home/goose/.local/lib/python3.8/site-packages (from keras==2.2.4->NudeNet->-r requirements.txt (line 5)) (1.1.2)\nRequirement already satisfied: pyyaml in /usr/lib/python3.8/site-packages (from keras==2.2.4->NudeNet->-r requirements.txt (line 5)) (5.3.1)\nRequirement already satisfied: h5py in /home/goose/.local/lib/python3.8/site-packages (from keras==2.2.4->NudeNet->-r requirements.txt (line 5)) (2.10.0)\nRequirement already satisfied: keras-applications>=1.0.6 in /home/goose/.local/lib/python3.8/site-packages (from keras==2.2.4->NudeNet->-r requirements.txt (line 5)) (1.0.8)\nRequirement already satisfied: python-utils>=2.3.0 in /home/goose/.local/lib/python3.8/site-packages (from progressbar2->pydload->NudeNet->-r requirements.txt (line 5)) (2.4.0)\nRequirement already satisfied: kiwisolver>=1.0.1 in /home/goose/.local/lib/python3.8/site-packages (from matplotlib!=3.0.0,>=2.0.0->scikit-image->NudeNet->-r requirements.txt (line 5)) (1.2.0)\nRequirement already satisfied: certifi>=2020.06.20 in /home/goose/.local/lib/python3.8/site-packages (from matplotlib!=3.0.0,>=2.0.0->scikit-image->NudeNet->-r requirements.txt (line 5)) (2020.6.20)\nRequirement already satisfied: python-dateutil>=2.1 in /home/goose/.local/lib/python3.8/site-packages (from matplotlib!=3.0.0,>=2.0.0->scikit-image->NudeNet->-r requirements.txt (line 5)) (2.8.1)\nRequirement already satisfied: pyparsing!=2.0.4,!=2.1.2,!=2.1.6,>=2.0.3 in /usr/lib/python3.8/site-packages (from matplotlib!=3.0.0,>=2.0.0->scikit-image->NudeNet->-r requirements.txt (line 5)) (2.4.7)\nRequirement already satisfied: cycler>=0.10 in /home/goose/.local/lib/python3.8/site-packages (from matplotlib!=3.0.0,>=2.0.0->scikit-image->NudeNet->-r requirements.txt (line 5)) (0.10.0)\nRequirement already satisfied: decorator>=4.3.0 in /home/goose/.local/lib/python3.8/site-packages (from networkx>=2.0->scikit-image->NudeNet->-r requirements.txt (line 5)) (4.4.2)\n--2020-09-16 16:48:29--  https://raw.githubusercontent.com/JohnnyUrosevic/Multithreaded-Reddit-Image-Downloader/master/run.py\nLoaded CA certificate '/etc/ssl/certs/ca-certificates.crt'\nResolving raw.githubusercontent.com (raw.githubusercontent.com)...151.101.196.133\nConnecting to raw.githubusercontent.com (raw.githubusercontent.com)|151.101.196.133|:443... connected.\nHTTP request sent, awaiting response...200 OK\nLength: 2675 (2.6K) [text/plain]\nSaving to: ‘run.py’\n\nrun.py              100%[===================>]   2.61K  --.-KB/s    in 0s      \n\n2020-09-16 16:48:29 (16.9 MB/s) - ‘run.py’ saved [2675/2675]\n\n"
    }
   ],
   "source": [
    "!pip3 install -r requirements.txt\n",
    "!wget https://raw.githubusercontent.com/JohnnyUrosevic/Multithreaded-Reddit-Image-Downloader/master/run.py"
   ]
  },
  {
   "source": [
    "Here we set the parameters for testing"
   ],
   "cell_type": "markdown",
   "metadata": {}
  },
  {
   "cell_type": "code",
   "execution_count": 8,
   "metadata": {},
   "outputs": [],
   "source": [
    "image_count = 10\n",
    "safe_paths = []\n",
    "nsfw_paths = []\n",
    "\n",
    "safe_subreddits = [\"pics\", \"gaming\"]\n",
    "nsfw_subreddits = [\"nsfw\", \"rule34\"]"
   ]
  },
  {
   "cell_type": "code",
   "execution_count": 9,
   "metadata": {},
   "outputs": [
    {
     "output_type": "error",
     "ename": "NameError",
     "evalue": "name 'dsetination' is not defined",
     "traceback": [
      "\u001b[0;31m---------------------------------------------------------------------------\u001b[0m",
      "\u001b[0;31mNameError\u001b[0m                                 Traceback (most recent call last)",
      "\u001b[0;32m<ipython-input-9-cea5c24d7a4b>\u001b[0m in \u001b[0;36m<module>\u001b[0;34m\u001b[0m\n\u001b[1;32m      9\u001b[0m \u001b[0;34m\u001b[0m\u001b[0m\n\u001b[1;32m     10\u001b[0m \u001b[0;32mfor\u001b[0m \u001b[0msub\u001b[0m \u001b[0;32min\u001b[0m \u001b[0msafe_subreddits\u001b[0m\u001b[0;34m:\u001b[0m\u001b[0;34m\u001b[0m\u001b[0;34m\u001b[0m\u001b[0m\n\u001b[0;32m---> 11\u001b[0;31m     \u001b[0mget_images\u001b[0m\u001b[0;34m(\u001b[0m\u001b[0msub\u001b[0m\u001b[0;34m,\u001b[0m \u001b[0;32mFalse\u001b[0m\u001b[0;34m)\u001b[0m\u001b[0;34m\u001b[0m\u001b[0;34m\u001b[0m\u001b[0m\n\u001b[0m\u001b[1;32m     12\u001b[0m \u001b[0;32mfor\u001b[0m \u001b[0msub\u001b[0m \u001b[0;32min\u001b[0m \u001b[0mnsfw_subreddits\u001b[0m\u001b[0;34m:\u001b[0m\u001b[0;34m\u001b[0m\u001b[0;34m\u001b[0m\u001b[0m\n\u001b[1;32m     13\u001b[0m     \u001b[0mget_images\u001b[0m\u001b[0;34m(\u001b[0m\u001b[0msub\u001b[0m\u001b[0;34m,\u001b[0m \u001b[0;32mTrue\u001b[0m\u001b[0;34m)\u001b[0m\u001b[0;34m\u001b[0m\u001b[0;34m\u001b[0m\u001b[0m\n",
      "\u001b[0;32m<ipython-input-9-cea5c24d7a4b>\u001b[0m in \u001b[0;36mget_images\u001b[0;34m(subreddit, nsfw)\u001b[0m\n\u001b[1;32m      3\u001b[0m \u001b[0;32mdef\u001b[0m \u001b[0mget_images\u001b[0m\u001b[0;34m(\u001b[0m\u001b[0msubreddit\u001b[0m\u001b[0;34m,\u001b[0m \u001b[0mnsfw\u001b[0m\u001b[0;34m)\u001b[0m\u001b[0;34m:\u001b[0m\u001b[0;34m\u001b[0m\u001b[0;34m\u001b[0m\u001b[0m\n\u001b[1;32m      4\u001b[0m     \u001b[0mdestination\u001b[0m \u001b[0;34m=\u001b[0m \u001b[0mnsfw_paths\u001b[0m \u001b[0;32mif\u001b[0m \u001b[0mnsfw\u001b[0m \u001b[0;32melse\u001b[0m \u001b[0msafe_paths\u001b[0m\u001b[0;34m\u001b[0m\u001b[0;34m\u001b[0m\u001b[0m\n\u001b[0;32m----> 5\u001b[0;31m     \u001b[0mdsetination\u001b[0m\u001b[0;34m.\u001b[0m\u001b[0mappend\u001b[0m\u001b[0;34m(\u001b[0m\u001b[0;34mf\"images/{subreddit}\"\u001b[0m\u001b[0;34m)\u001b[0m\u001b[0;34m\u001b[0m\u001b[0;34m\u001b[0m\u001b[0m\n\u001b[0m\u001b[1;32m      6\u001b[0m \u001b[0;34m\u001b[0m\u001b[0m\n\u001b[1;32m      7\u001b[0m     \u001b[0mscraper\u001b[0m \u001b[0;34m=\u001b[0m \u001b[0mredditImageScraper\u001b[0m\u001b[0;34m(\u001b[0m\u001b[0msubreddit\u001b[0m\u001b[0;34m,\u001b[0m \u001b[0mimage_count\u001b[0m\u001b[0;34m,\u001b[0m \u001b[0;34m\"hot\"\u001b[0m\u001b[0;34m,\u001b[0m \u001b[0mnsfw\u001b[0m\u001b[0;34m)\u001b[0m\u001b[0;34m\u001b[0m\u001b[0;34m\u001b[0m\u001b[0m\n",
      "\u001b[0;31mNameError\u001b[0m: name 'dsetination' is not defined"
     ]
    }
   ],
   "source": [
    "from run import redditImageScraper\n",
    "\n",
    "def get_images(subreddit, nsfw):\n",
    "    destination = nsfw_paths if nsfw else safe_paths\n",
    "    destination.append(f\"images/{subreddit}\")\n",
    "    \n",
    "    scraper = redditImageScraper(subreddit, image_count, \"hot\", nsfw)\n",
    "    scraper.start()\n",
    "\n",
    "for sub in safe_subreddits:\n",
    "    get_images(sub, False)\n",
    "for sub in nsfw_subreddits:\n",
    "    get_images(sub, True)"
   ]
  },
  {
   "cell_type": "code",
   "execution_count": null,
   "metadata": {},
   "outputs": [],
   "source": []
  }
 ],
 "metadata": {
  "kernelspec": {
   "name": "python38564bit41dd60540cb04ab3adc0e10f512cb5d5",
   "display_name": "Python 3.8.5 64-bit"
  }
 },
 "nbformat": 4,
 "nbformat_minor": 4
}