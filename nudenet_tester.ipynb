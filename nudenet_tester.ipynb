{
 "cells": [
  {
   "cell_type": "markdown",
   "metadata": {},
   "source": [
    "First install this [reddit picture scraper](https://github.com/impshum/Multithreaded-Reddit-Image-Downloader)\n"
   ]
  },
  {
   "cell_type": "code",
   "execution_count": 4,
   "metadata": {
    "tags": []
   },
   "outputs": [
    {
     "name": "stdout",
     "output_type": "stream",
     "text": [
      "Defaulting to user installation because normal site-packages is not writeable\n",
      "Requirement already satisfied: requests in /usr/lib/python3.8/site-packages (from -r requirements.txt (line 1)) (2.24.0)\n",
      "Requirement already satisfied: praw in /home/goose/.local/lib/python3.8/site-packages (from -r requirements.txt (line 2)) (7.1.0)\n",
      "Requirement already satisfied: configparser in /home/goose/.local/lib/python3.8/site-packages (from -r requirements.txt (line 3)) (5.0.0)\n",
      "Requirement already satisfied: argparse in /home/goose/.local/lib/python3.8/site-packages (from -r requirements.txt (line 4)) (1.4.0)\n",
      "Requirement already satisfied: NudeNet in /home/goose/.local/lib/python3.8/site-packages (from -r requirements.txt (line 5)) (2.0.3)\n",
      "\u001b[31mERROR: Could not find a version that satisfies the requirement tensorflow==1.14 (from -r requirements.txt (line 6)) (from versions: 2.2.0rc1, 2.2.0rc2, 2.2.0rc3, 2.2.0rc4, 2.2.0, 2.3.0rc0, 2.3.0rc1, 2.3.0rc2, 2.3.0)\u001b[0m\n",
      "\u001b[31mERROR: No matching distribution found for tensorflow==1.14 (from -r requirements.txt (line 6))\u001b[0m\n",
      "--2020-09-16 17:41:56--  https://raw.githubusercontent.com/JohnnyUrosevic/Multithreaded-Reddit-Image-Downloader/master/run.py\n",
      "Loaded CA certificate '/etc/ssl/certs/ca-certificates.crt'\n",
      "Resolving raw.githubusercontent.com (raw.githubusercontent.com)... 151.101.196.133\n",
      "Connecting to raw.githubusercontent.com (raw.githubusercontent.com)|151.101.196.133|:443... connected.\n",
      "HTTP request sent, awaiting response... 200 OK\n",
      "Length: 2675 (2.6K) [text/plain]\n",
      "Saving to: ‘run.py.1’\n",
      "\n",
      "run.py.1            100%[===================>]   2.61K  --.-KB/s    in 0s      \n",
      "\n",
      "2020-09-16 17:41:56 (5.17 MB/s) - ‘run.py.1’ saved [2675/2675]\n",
      "\n"
     ]
    }
   ],
   "source": [
    "!pip3 install -r requirements.txt\n",
    "!wget https://raw.githubusercontent.com/JohnnyUrosevic/Multithreaded-Reddit-Image-Downloader/master/run.py"
   ]
  },
  {
   "cell_type": "markdown",
   "metadata": {},
   "source": [
    "Here we set the parameters for testing"
   ]
  },
  {
   "cell_type": "code",
   "execution_count": 36,
   "metadata": {},
   "outputs": [],
   "source": [
    "image_count = 80\n",
    "safe_paths = []\n",
    "nsfw_paths = []\n",
    "\n",
    "safe_subreddits = [\"pics\", \"gaming\"]\n",
    "nsfw_subreddits = [\"nsfw\", \"rule34\"]"
   ]
  },
  {
   "cell_type": "code",
   "execution_count": 37,
   "metadata": {
    "tags": []
   },
   "outputs": [],
   "source": [
    "from run import redditImageScraper\n",
    "\n",
    "def get_images(subreddit, nsfw):\n",
    "    destination = nsfw_paths if nsfw else safe_paths\n",
    "    destination.append(f\"images/{subreddit}\")\n",
    "    \n",
    "    scraper = redditImageScraper(subreddit, image_count, \"hot\", nsfw)\n",
    "    scraper.start()\n",
    "\n",
    "for sub in safe_subreddits:\n",
    "    get_images(sub, False)\n",
    "for sub in nsfw_subreddits:\n",
    "    get_images(sub, True)"
   ]
  },
  {
   "cell_type": "code",
   "execution_count": 38,
   "metadata": {},
   "outputs": [],
   "source": [
    "from nudenet import NudeClassifier\n",
    "classifier = NudeClassifier()"
   ]
  },
  {
   "cell_type": "code",
   "execution_count": 55,
   "metadata": {},
   "outputs": [],
   "source": [
    "import numpy as np"
   ]
  },
  {
   "cell_type": "code",
   "execution_count": 59,
   "metadata": {},
   "outputs": [],
   "source": [
    "import os\n",
    "\n",
    "preds = {}\n",
    "\n",
    "def generate_confusion(threshold):\n",
    "    confusion = np.zeros((2,2))\n",
    "    \n",
    "    def test(paths, nsfw, threshold):\n",
    "        for path in paths:\n",
    "            prob = classifier.classify([os.path.join(path,f) for f in os.listdir(path)])\n",
    "            for k, p in prob.items():\n",
    "                if p['unsafe'] >= threshold:\n",
    "                    confusion[nsfw][1] += 1\n",
    "                    preds[k] = (1, nsfw)\n",
    "                else:\n",
    "                    confusion[nsfw][0] += 1\n",
    "                    preds[k] = (0, nsfw)\n",
    "    \n",
    "    test(safe_paths, 0, threshold)\n",
    "    test(nsfw_paths, 1, threshold)\n",
    "    return confusion"
   ]
  },
  {
   "cell_type": "code",
   "execution_count": 45,
   "metadata": {},
   "outputs": [
    {
     "name": "stdout",
     "output_type": "stream",
     "text": [
      "['images/pics/fsep6r0xqln51.jpg']\n"
     ]
    }
   ],
   "source": [
    "#print false positives\n",
    "print([k for k, v in preds.items() if v == (1,0)])"
   ]
  },
  {
   "cell_type": "code",
   "execution_count": 60,
   "metadata": {},
   "outputs": [
    {
     "data": {
      "image/png": "[encoded data removed]",
      "text/plain": [
       "<Figure size 720x504 with 2 Axes>"
      ]
     },
     "metadata": {
      "needs_background": "light"
     },
     "output_type": "display_data"
    }
   ],
   "source": [
    "import seaborn as sn\n",
    "import pandas as pd\n",
    "import matplotlib.pyplot as plt\n",
    "def plot(threshold):\n",
    "    confusion = generate_confusion(threshold)\n",
    "    df_cm = pd.DataFrame(confusion, index = [\"Actual Negative\", \"Actual Positive\"],\n",
    "                      columns = [\"Predicted Negative\", \"Predicted Positive\"])\n",
    "    plt.figure(figsize = (10,7))\n",
    "    ax = plt.axes()\n",
    "    sn.heatmap(df_cm, annot=True, ax=ax, fmt='g')\n",
    "    ax.set_title(f'{int(threshold * 100)}% Threshold')\n",
    "\n",
    "plot(.9)"
   ]
  },
  {
   "cell_type": "code",
   "execution_count": null,
   "metadata": {},
   "outputs": [],
   "source": [
    "plot(.8)"
   ]
  }
 ],
 "metadata": {
  "kernelspec": {
   "display_name": "nudenet-tester",
   "language": "python",
   "name": "nudenet-tester"
  },
  "language_info": {
   "codemirror_mode": {
    "name": "ipython",
    "version": 3
   },
   "file_extension": ".py",
   "mimetype": "text/x-python",
   "name": "python",
   "nbconvert_exporter": "python",
   "pygments_lexer": "ipython3",
   "version": "3.6.11"
  }
 },
 "nbformat": 4,
 "nbformat_minor": 4
}
